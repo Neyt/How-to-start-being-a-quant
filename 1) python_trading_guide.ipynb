Here's how you can structure the given Python guide into a Jupyter Notebook (JSON format). Below is a Jupyter Notebook file in JSON structure:

```json
{
 "cells": [
  {
   "cell_type": "markdown",
   "metadata": {},
   "source": [
    "# Python Trading Guide\n",
    "\n",
    "## **Lecture Overview**\n",
    "This initial lesson focuses on the basics of Python, ensuring we understand the essential concepts. The goal is to become familiar with Python's syntax, from simple aspects like comments to more complex ones like classes. We will go through each concept step-by-step, practicing and noting new things as we learn them."
   ]
  },
  {
   "cell_type": "markdown",
   "metadata": {},
   "source": [
    "## Python Concepts\n",
    "1. Code Comments\n",
    "2. Code Conventions\n",
    "3. Objects, Types & Variables\n",
    "4. Operators\n",
    "5. Data Structures\n",
    "6. Accessing Data Structures\n",
    "7. Built-In Functions & Callables\n",
    "8. Objects Attributes (Methods & Properties)\n",
    "9. Functions\n",
    "10. Lambda Functions\n",
    "11. Loop Structures\n",
    "12. If Statements"
   ]
  },
  {
   "cell_type": "markdown",
   "metadata": {},
   "source": [
    "## Getting Into Python Basics\n",
    "\n",
    "Python is a high-level, interpreted language known for its clear syntax and readability. It’s used in various fields like web development, data analysis, AI, and scientific computing, making it highly versatile due to its extensive standard library and ecosystem."
   ]
  },
  {
   "cell_type": "markdown",
   "metadata": {},
   "source": [
    "### 1. **Code Comments**\n",
    "\n",
    "Comments make code easier for others (and yourself) to follow. Python supports two main types of comments:\n",
    "\n",
    "1. **Single-line comments** using `#`:  "
   ]
  },
  {
   "cell_type": "code",
   "execution_count": null,
   "metadata": {},
   "outputs": [],
   "source": [
    "# This is a comment\n",
    "x = 10  # Inline comment"
   ]
  },
  {
   "cell_type": "markdown",
   "metadata": {},
   "source": [
    "2. **Docstrings**: Special comments typically used to describe functions or classes."
   ]
  },
  {
   "cell_type": "code",
   "execution_count": null,
   "metadata": {},
   "outputs": [],
   "source": [
    "def my_function():\n",
    "    \"\"\"This function does something.\"\"\"\n",
    "    pass"
   ]
  },
  {
   "cell_type": "markdown",
   "metadata": {},
   "source": [
    "### 2. **Code Conventions**\n",
    "\n",
    "Following conventions ensures clean and maintainable code. Here are some best practices:\n",
    "\n",
    "- **Indentation**: Use 4 spaces for indentation.\n",
    "- **Naming conventions**:\n",
    "  - Variables and functions: `snake_case`\n",
    "  - Classes: `CamelCase`\n",
    "  - Constants: `ALL_CAPS`\n",
    "- **Line Length**: Keep lines under 79 characters.\n",
    "- **Spaces**: Add spaces around operators (e.g., `x = 10`, not `x=10`).\n",
    "- **Imports**: Always at the beginning of your file."
   ]
  },
  {
   "cell_type": "markdown",
   "metadata": {},
   "source": [
    "### 3. **Objects, Types & Variables**\n",
    "\n",
    "Everything in Python is an **object** and has a **type**. Common types include:\n",
    "\n",
    "- **int**: Integer numbers, e.g., `10`, `25`\n",
    "- **float**: Numbers with decimals, e.g., `10.5`, `0.001`\n",
    "- **str**: Strings (text), e.g., `\"hello\"`\n",
    "- **bool**: Boolean values, `True` or `False`\n",
    "- **NoneType**: Represents the absence of a value, `None`"
   ]
  },
  {
   "cell_type": "markdown",
   "metadata": {},
   "source": [
    "### 4. **Operators**\n",
    "\n",
    "Operators perform actions on variables and values. Common operators include:\n",
    "\n",
    "- **Arithmetic Operators**: `+`, `-`, `*`, `/`, `**` (exponent)\n",
    "- **Assignment Operators**: `=`, `+=`, `-=`\n",
    "- **Comparison Operators**: `==`, `!=`, `<`, `<=`, `>`, `>=`"
   ]
  },
  {
   "cell_type": "markdown",
   "metadata": {},
   "source": [
    "### 5. **Data Structures**\n",
    "\n",
    "Python has several built-in data structures to store and manage collections of data:\n",
    "\n",
    "- **`list`**: Mutable, ordered collection of items."
   ]
  },
  {
   "cell_type": "code",
   "execution_count": null,
   "metadata": {},
   "outputs": [],
   "source": [
    "my_list = [1, 2, 3, 'apple']"
   ]
  },
  {
   "cell_type": "markdown",
   "metadata": {},
   "source": [
    "- **`tuple`**: Immutable, ordered collection."
   ]
  },
  {
   "cell_type": "code",
   "execution_count": null,
   "metadata": {},
   "outputs": [],
   "source": [
    "my_tuple = (1, 2, 3)"
   ]
  },
  {
   "cell_type": "markdown",
   "metadata": {},
   "source": [
    "- **`set`**: Unordered collection of unique items."
   ]
  },
  {
   "cell_type": "code",
   "execution_count": null,
   "metadata": {},
   "outputs": [],
   "source": [
    "my_set = {1, 2, 3}"
   ]
  },
  {
   "cell_type": "markdown",
   "metadata": {},
   "source": [
    "- **`dict`**: Mutable collection of key-value pairs."
   ]
  },
  {
   "cell_type": "code",
   "execution_count": null,
   "metadata": {},
   "outputs": [],
   "source": [
    "my_dict = {'name': 'Alice', 'age': 30}"
   ]
  },
  {
   "cell_type": "markdown",
   "metadata": {},
   "source": [
    "### 6. **Accessing Data Structures**\n",
    "\n",
    "Accessing elements in a collection depends on its type:\n",
    "\n",
    "- **Lists & Tuples**: Use index-based access:"
   ]
  },
  {
   "cell_type": "code",
   "execution_count": null,
   "metadata": {},
   "outputs": [],
   "source": [
    "my_list[0]  # First item in list"
   ]
  },
  {
   "cell_type": "markdown",
   "metadata": {},
   "source": [
    "- **Dictionaries**: Use keys:"
   ]
  },
  {
   "cell_type": "code",
   "execution_count": null,
   "metadata": {},
   "outputs": [],
   "source": [
    "my_dict['name']"
   ]
  },
  {
   "cell_type": "markdown",
   "metadata": {},
   "source": [
    "### 7. **Built-In Functions & Callables**\n",
    "\n",
    "Python has many built-in functions that perform common tasks:\n",
    "\n",
    "- `type(obj)`: Returns the type of an object.\n",
    "- `isinstance(obj, class)`: Checks if an object is an instance of a class.\n",
    "- `len(container)`: Returns the number of items in a container.\n",
    "- `sum(container)`: Returns the sum of a container's items."
   ]
  },
  {
   "cell_type": "markdown",
   "metadata": {},
   "source": [
    "### 8. **Object Attributes (Methods & Properties)**\n",
    "\n",
    "In Python, objects have attributes, which can be methods (callable functions) or properties (data).\n",
    "\n",
    "Examples of string methods:"
   ]
  },
  {
   "cell_type": "code",
   "execution_count": null,
   "metadata": {},
   "outputs": [],
   "source": [
    "my_string = \"hello\"\n",
    "my_string.upper()"
   ]
  },
  {
   "cell_type": "markdown",
   "metadata": {},
   "source": [
    "### 9. **Functions**\n",
    "\n",
    "Functions are reusable blocks of code that perform a specific task."
   ]
  },
  {
   "cell_type": "
