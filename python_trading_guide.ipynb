{
 "cells": [
  {
   "cell_type": "markdown",
   "id": "9420433a",
   "metadata": {},
   "source": [
    "## **Lecture Overview**\n",
    "\n",
    "In this initial lesson, the instructor focused on providing the basics of Python. The goal is for us to become familiar with the syntax. The instructor mentioned that we don’t need to become Python experts. The lesson covers the simplest aspects of the Python programming language, such as comments, up to the more complex ones, like classes. We will go through each concept one by one to understand, practice, and take notes on new things we learn."
   ]
  },
  {
   "cell_type": "markdown",
   "id": "faf7698d",
   "metadata": {},
   "source": [
    "## Python Concepts\n",
    "\n",
    "1. Code Comments\n",
    "2. Code Conventions\n",
    "3. Objects, Types & Variables\n",
    "4. Operators\n",
    "5. Data Structures\n",
    "6. Accessing Data Structures\n",
    "7. Built-In Functions & Callables\n",
    "8. Objects Attributes (Methods & Properties)"
   ]
  },
  {
   "cell_type": "markdown",
   "id": "661b910a",
   "metadata": {},
   "source": [
    "## Getting In The Python Basics\n",
    "\n",
    "Python is a high-level, interpreted language known for its clear syntax and readability. It's ideal for beginners and professionals, supporting multiple paradigms. Widely used in web development, data analysis, AI, and scientific computing, its extensive standard library and ecosystem make it highly versatile."
   ]
  },
  {
   "cell_type": "markdown",
   "id": "92713728",
   "metadata": {},
   "source": [
    "## 1. Code Comments\n",
    "\n",
    "A comment is a note made by a programmer. Its purpose is to make it easier for people to follow along with what is happening in the code."
   ]
  },
  {
   "cell_type": "code",
   "execution_count": null,
   "id": "c625c23c",
   "metadata": {},
   "outputs": [],
   "source": [
    "# This is a comment\n",
    "# These lines of code will not change any values\n",
    "# Anything following the first # is not run as a code\n",
    "\n",
    "# Inline comments exist two spaces to the right of the line of code\n",
    "x = 10  # This is an inline comment explaining that x is set to 10\n",
    "\n",
    "# Docstrings are comments within blocks, usually goes after a defined function\n",
    "\"\"\" This is a special comment \"\"\""
   ]
  },
  {
   "cell_type": "markdown",
   "id": "cbc46434",
   "metadata": {},
   "source": [
    "## 2. Code Conventions\n",
    "\n",
    "Python coding conventions are guidelines for writing clean and consistent code. This will create a community that follows good practices. Examples:"
   ]
  },
  {
   "cell_type": "markdown",
   "id": "951c8fd1",
   "metadata": {},
   "source": [
    "- **Indentation**: Use 4 spaces per indentation level.\n",
    "- **Naming**:\n",
    "  - Variables and functions: `snake_case`\n",
    "  - Classes: `CamelCase`\n",
    "  - Constants: `ALL_CAPS`\n",
    "- **Line Length**: Try to keep each line of code under 79 characters.\n",
    "- **Imports**: Import modules at the beginning of the file."
   ]
  },
  {
   "cell_type": "markdown",
   "id": "8ccf3e86",
   "metadata": {},
   "source": [
    "## 3. Objects, Types & Variables\n",
    "\n",
    "Everything in Python is an **object** and every object in Python has a **type**. Some of the basic types include:\n",
    "- int: 10, 25\n",
    "- float: 10.5, 0.001\n",
    "- str: \"hello\"\n",
    "- bool: True, False\n",
    "- NoneType: None"
   ]
  },
  {
   "cell_type": "markdown",
   "id": "01cae59a",
   "metadata": {},
   "source": [
    "## 4. Operators\n",
    "\n",
    "### Arithmetic operators:\n",
    "- `+` (addition)\n",
    "- `-` (subtraction)\n",
    "- `*` (multiplication)\n",
    "- `/` (division)\n",
    "- `**` (exponent)"
   ]
  },
  {
   "cell_type": "markdown",
   "id": "6ae68898",
   "metadata": {},
   "source": [
    "### Assignment operators:\n",
    "- `=` (assign a value)\n",
    "- `+=` (add and re-assign)\n",
    "- `-=` (subtract and re-assign)\n",
    "- `*=` (multiply and re-assign)"
   ]
  },
  {
   "cell_type": "markdown",
   "id": "574cd85e",
   "metadata": {},
   "source": [
    "## 5. Data Structures (Collections)\n",
    "\n",
    "Collections are objects that can be used to group other objects together. The basic collection types include:"
   ]
  },
  {
   "cell_type": "code",
   "execution_count": null,
   "id": "16af629f",
   "metadata": {},
   "outputs": [],
   "source": [
    "# Examples of data structures:\n",
    "my_list = [3, 5, 6, 'dog', 'cat', False]\n",
    "my_tuple = (3, 5, 6, 'dog', 'cat', False)\n",
    "my_set = {3, 5, 6, 'dog', 'cat', False}\n",
    "my_dict = {'name': 'Jane', 'age': 23, 'fav_foods': ['pizza', 'fruit', 'fish']}"
   ]
  },
  {
   "cell_type": "markdown",
   "id": "3c930096",
   "metadata": {},
   "source": [
    "## 6. Accessing Data Structures\n",
    "\n",
    "1. **Strings, lists, and tuples**: Use square brackets to access items by index (starting at 0) or to slice a range of items.\n",
    "2. **Dictionaries**: Access items using their keys as the index.\n",
    "3. **Sets**: Not indexed, so you can't use subscript notation to access elements."
   ]
  },
  {
   "cell_type": "markdown",
   "id": "dd8882a2",
   "metadata": {},
   "source": [
    "## 7. Built-In Functions and Callables\n",
    "\n",
    "Examples:\n",
    "- `type(obj)`\n",
    "- `isinstance(val, obj)`\n",
    "- `len(container)`\n",
    "- `sorted(container)`\n",
    "- `sum(container)`\n",
    "- `min(container)`\n",
    "- `max(container)`"
   ]
  },
  {
   "cell_type": "markdown",
   "id": "d0e5f582",
   "metadata": {},
   "source": [
    "## 8. Object Attributes (Methods and Properties)\n",
    "\n",
    "In Python, objects have **attributes**, which are like variables connected to that object. Examples of string methods:"
   ]
  },
  {
   "cell_type": "code",
   "execution_count": null,
   "id": "e5e0c675",
   "metadata": {},
   "outputs": [],
   "source": [
    "# Example of string methods\n",
    "my_string = \"hello\"\n",
    "print(my_string.upper())  # Convert to uppercase\n",
    "print(my_string.lower())  # Convert to lowercase"
   ]
  },
  {
   "cell_type": "markdown",
   "id": "d7f46f5d",
   "metadata": {},
   "source": [
    "## 9. Functions\n",
    "\n",
    "A function is a reusable block of code to make calculations, output data or do anything you want."
   ]
  },
  {
   "cell_type": "code",
   "execution_count": null,
   "id": "ad3546f1",
   "metadata": {},
   "outputs": [],
   "source": [
    "# Example of a function\n",
    "def hello_world():\n",
    "    \"\"\" Prints Hello, world! \"\"\"\n",
    "    print('Hello, world!')\n",
    "\n",
    "hello_world()"
   ]
  },
  {
   "cell_type": "markdown",
   "id": "e587e0ad",
   "metadata": {},
   "source": [
    "## 10. Lambda Functions\n",
    "\n",
    "One line anonymous functions"
   ]
  },
  {
   "cell_type": "code",
   "execution_count": null,
   "id": "a35d66ef",
   "metadata": {},
   "outputs": [],
   "source": [
    "# Example of lambda function\n",
    "x = lambda a : a + 10\n",
    "print(x(5))  # Add 10 to argument a"
   ]
  },
  {
   "cell_type": "markdown",
   "id": "cf246803",
   "metadata": {},
   "source": [
    "## 11. Loop Structures\n",
    "\n",
    "`For` and `While` loop provide a way to repeatedly run a block of code."
   ]
  },
  {
   "cell_type": "code",
   "execution_count": null,
   "id": "4007c671",
   "metadata": {},
   "outputs": [],
   "source": [
    "# Example of a loop\n",
    "for i in range(5):\n",
    "    print(f'I am looping! Loop number: {i}')"
   ]
  },
  {
   "cell_type": "markdown",
   "id": "510226a9",
   "metadata": {},
   "source": [
    "## 12. If Statements\n",
    "\n",
    "We can create segments of code that only execute if a set of conditions is met."
   ]
  },
  {
   "cell_type": "code",
   "execution_count": null,
   "id": "eee4ee40",
   "metadata": {},
   "outputs": [],
   "source": [
    "# Example of an if statement\n",
    "x = 10\n",
    "if x > 5:\n",
    "    print('x is greater than 5')\n",
    "elif x == 5:\n",
    "    print('x is equal to 5')\n",
    "else:\n",
    "    print('x is less than 5')"
   ]
  }
 ],
 "metadata": {},
 "nbformat": 4,
 "nbformat_minor": 5
}
