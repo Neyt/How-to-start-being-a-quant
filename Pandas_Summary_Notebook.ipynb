{
 "cells": [
  {
   "cell_type": "markdown",
   "id": "7e9b1b37",
   "metadata": {},
   "source": [
    "\n",
    "# Python Pandas Overview\n",
    "Python Pandas is a widely-used open-source library designed for data manipulation and analysis.\n"
   ]
  },
  {
   "cell_type": "code",
   "execution_count": null,
   "id": "f299dff9",
   "metadata": {},
   "outputs": [],
   "source": [
    "\n",
    "# Install Pandas\n",
    "!pip install pandas\n"
   ]
  },
  {
   "cell_type": "markdown",
   "id": "0fea8e07",
   "metadata": {},
   "source": [
    "\n",
    "## Basic Usage of Pandas\n",
    "Pandas is used to handle and analyze structured data efficiently. Let's load a dataset using `pd.read_csv`.\n"
   ]
  },
  {
   "cell_type": "code",
   "execution_count": null,
   "id": "6d40856f",
   "metadata": {},
   "outputs": [],
   "source": [
    "\n",
    "import pandas as pd\n",
    "\n",
    "# Load a dataset (example CSV file)\n",
    "df = pd.read_csv('data.csv')\n",
    "\n",
    "# Display the first few rows of the DataFrame\n",
    "df.head()\n"
   ]
  },
  {
   "cell_type": "markdown",
   "id": "87fdae3e",
   "metadata": {},
   "source": [
    "\n",
    "## Handling Missing Values\n",
    "Missing values can be handled using the `isnull()` function to detect them.\n"
   ]
  },
  {
   "cell_type": "code",
   "execution_count": null,
   "id": "50ae88d1",
   "metadata": {},
   "outputs": [],
   "source": [
    "\n",
    "# Detect missing values\n",
    "missing_values = df.isnull().sum()\n",
    "print(missing_values)\n"
   ]
  },
  {
   "cell_type": "markdown",
   "id": "edabd7de",
   "metadata": {},
   "source": [
    "\n",
    "## Feature Engineering\n",
    "Pandas can be used to create new features, such as interaction features, polynomial features, and date extractions.\n"
   ]
  },
  {
   "cell_type": "code",
   "execution_count": null,
   "id": "c94ab438",
   "metadata": {},
   "outputs": [],
   "source": [
    "\n",
    "# Example of creating interaction features and extracting date components\n",
    "df['interaction_feature'] = df['feature1'] * df['feature2']\n",
    "df['year'] = pd.to_datetime(df['date_column']).dt.year\n"
   ]
  },
  {
   "cell_type": "markdown",
   "id": "99068c00",
   "metadata": {},
   "source": [
    "\n",
    "## Scaling and Normalizing\n",
    "It's important to scale or normalize features for better model performance.\n"
   ]
  },
  {
   "cell_type": "code",
   "execution_count": null,
   "id": "7c501d1e",
   "metadata": {},
   "outputs": [],
   "source": [
    "\n",
    "from sklearn.preprocessing import StandardScaler, MinMaxScaler\n",
    "\n",
    "# Standardizing features\n",
    "scaler = StandardScaler()\n",
    "df_standardized = pd.DataFrame(scaler.fit_transform(df[['feature1', 'feature2']]), columns=['feature1', 'feature2'])\n",
    "\n",
    "# Normalizing features\n",
    "normalizer = MinMaxScaler()\n",
    "df_normalized = pd.DataFrame(normalizer.fit_transform(df[['feature1', 'feature2']]), columns=['feature1', 'feature2'])\n"
   ]
  },
  {
   "cell_type": "markdown",
   "id": "57cfddac",
   "metadata": {},
   "source": [
    "\n",
    "## Conclusion\n",
    "Pandas is an essential library for efficient data manipulation and analysis in Python, with wide applications across fields such as machine learning, finance, and business intelligence.\n"
   ]
  }
 ],
 "metadata": {},
 "nbformat": 4,
 "nbformat_minor": 5
}
