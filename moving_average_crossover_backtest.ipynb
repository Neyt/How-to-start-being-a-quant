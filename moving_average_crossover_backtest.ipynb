{
 "cells": [
  {
   "cell_type": "markdown",
   "id": "b34f70a4",
   "metadata": {},
   "source": [
    "# Moving Average Crossover Strategy with VectorBT"
   ]
  },
  {
   "cell_type": "markdown",
   "id": "96c8abca",
   "metadata": {},
   "source": [
    "This notebook implements a dual moving average crossover strategy using `vectorbt`. We will backtest this strategy on Apple's stock (AAPL) from 2015 to the present."
   ]
  },
  {
   "cell_type": "markdown",
   "id": "55318e61",
   "metadata": {},
   "source": [
    "## Step 1: Import Libraries"
   ]
  },
  {
   "cell_type": "code",
   "execution_count": null,
   "id": "f43fae49",
   "metadata": {},
   "outputs": [],
   "source": [
    "\n",
    "import vectorbt as vbt\n",
    "import numpy as np\n",
    "import pandas as pd\n",
    "    "
   ]
  },
  {
   "cell_type": "markdown",
   "id": "b92fdd74",
   "metadata": {},
   "source": [
    "## Step 2: Download Historical Stock Data"
   ]
  },
  {
   "cell_type": "code",
   "execution_count": null,
   "id": "f0e138bf",
   "metadata": {},
   "outputs": [],
   "source": [
    "\n",
    "# Download AAPL stock data from Yahoo Finance\n",
    "symbols = ['AAPL']\n",
    "prices = vbt.YFData.download(symbols, start='2015-01-01').get('Close')\n",
    "prices.head()\n",
    "    "
   ]
  },
  {
   "cell_type": "markdown",
   "id": "14f1fd1a",
   "metadata": {},
   "source": [
    "## Step 3: Calculate Moving Averages"
   ]
  },
  {
   "cell_type": "code",
   "execution_count": null,
   "id": "4dd1df28",
   "metadata": {},
   "outputs": [],
   "source": [
    "\n",
    "# 10-day and 50-day Moving Averages\n",
    "fast_ma = vbt.MA.run(prices, 10, short_name='fast')\n",
    "slow_ma = vbt.MA.run(prices, 50, short_name='slow')\n",
    "    "
   ]
  },
  {
   "cell_type": "markdown",
   "id": "bf62482d",
   "metadata": {},
   "source": [
    "## Step 4: Define Entry and Exit Signals"
   ]
  },
  {
   "cell_type": "code",
   "execution_count": null,
   "id": "045ae454",
   "metadata": {},
   "outputs": [],
   "source": [
    "\n",
    "# Generate entry and exit signals based on crossover logic\n",
    "entries = fast_ma.ma_crossed_above(slow_ma)\n",
    "exits = fast_ma.ma_crossed_below(slow_ma)\n",
    "    "
   ]
  },
  {
   "cell_type": "markdown",
   "id": "2184ca27",
   "metadata": {},
   "source": [
    "## Step 5: Run the Backtest"
   ]
  },
  {
   "cell_type": "code",
   "execution_count": null,
   "id": "860d1936",
   "metadata": {},
   "outputs": [],
   "source": [
    "\n",
    "# Create a portfolio from the signals\n",
    "portfolio = vbt.Portfolio.from_signals(prices, entries, exits)\n",
    "\n",
    "# Display basic portfolio statistics\n",
    "portfolio.stats()\n",
    "    "
   ]
  },
  {
   "cell_type": "markdown",
   "id": "50ae0aaf",
   "metadata": {},
   "source": [
    "## Step 6: Visualize Strategy Performance"
   ]
  },
  {
   "cell_type": "code",
   "execution_count": null,
   "id": "ee737fab",
   "metadata": {},
   "outputs": [],
   "source": [
    "\n",
    "# Plot the cumulative returns, orders, and trade profit/loss\n",
    "fig = portfolio.plot(subplots=['cum_returns', 'orders', 'trade_pnl'])\n",
    "fast_ma.ma.vbt.plot(fig=fig)\n",
    "slow_ma.ma.vbt.plot(fig=fig)\n",
    "fig.show()\n",
    "    "
   ]
  }
 ],
 "metadata": {},
 "nbformat": 4,
 "nbformat_minor": 5
}
