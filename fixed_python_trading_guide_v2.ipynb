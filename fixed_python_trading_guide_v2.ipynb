{
 "cells": [
  {
   "cell_type": "markdown",
   "id": "8b2d780a",
   "metadata": {},
   "source": [
    "# Mastering Python Basics: A Comprehensive Guide for Traders\n",
    "\n",
    "Welcome to the world of Python programming! Whether you're a complete beginner or looking to solidify your foundational knowledge, this guide will walk you through the essential elements of Python, with a focus on applications relevant to trading. Let's dive in and start mastering Python to enhance your trading strategies!\n"
   ]
  },
  {
   "cell_type": "markdown",
   "id": "c5c5bcdc",
   "metadata": {},
   "source": [
    "## 1. Understanding Python Basics\n",
    "\n",
    "### Data Types\n",
    "Python supports several fundamental data types that are crucial for handling financial data:"
   ]
  },
  {
   "cell_type": "code",
   "execution_count": null,
   "id": "7b2683f8",
   "metadata": {},
   "outputs": [],
   "source": [
    "# Example of Data Types\n",
    "price = 150.25  # float\n",
    "ticker = \"AAPL\"  # string\n",
    "is_market_open = True  # boolean\n",
    "order_type = None  # NoneType"
   ]
  },
  {
   "cell_type": "markdown",
   "id": "5c37aca3",
   "metadata": {},
   "source": [
    "### Data Structures\n",
    "Python offers various built-in data structures that help organize and manipulate trading data:"
   ]
  },
  {
   "cell_type": "code",
   "execution_count": null,
   "id": "1b7024b8",
   "metadata": {},
   "outputs": [],
   "source": [
    "# List Example\n",
    "prices = [150.25, 151.00, 149.75]\n",
    "\n",
    "# Tuple Example\n",
    "trade = (\"AAPL\", 150.25, \"buy\", 100)\n",
    "\n",
    "# Set Example\n",
    "unique_tickers = {\"AAPL\", \"GOOGL\", \"MSFT\"}\n",
    "\n",
    "# Dictionary Example\n",
    "portfolio = {\"AAPL\": 50, \"GOOGL\": 30, \"MSFT\": 20}"
   ]
  },
  {
   "cell_type": "markdown",
   "id": "c02c4db8",
   "metadata": {},
   "source": [
    "### Operators\n",
    "Python supports various operators to perform different operations:"
   ]
  },
  {
   "cell_type": "code",
   "execution_count": null,
   "id": "ba459bdb",
   "metadata": {},
   "outputs": [],
   "source": [
    "# Arithmetic Operators\n",
    "buy_price = 150\n",
    "sell_price = 155\n",
    "quantity = 100\n",
    "profit = (sell_price - buy_price) * quantity  # Calculate profit\n",
    "\n",
    "# Comparison Operators\n",
    "is_profitable = sell_price > buy_price  # Check if a trade is profitable"
   ]
  },
  {
   "cell_type": "markdown",
   "id": "130061f0",
   "metadata": {},
   "source": [
    "## 2. Working with Functions\n",
    "\n",
    "### Built-in Functions\n",
    "Python includes numerous built-in functions that simplify various tasks:"
   ]
  },
  {
   "cell_type": "code",
   "execution_count": null,
   "id": "2ab28fe5",
   "metadata": {},
   "outputs": [],
   "source": [
    "# Built-in functions examples\n",
    "print(type(price))  # Output: <class 'float'>\n",
    "print(len(prices))  # Output: 3"
   ]
  },
  {
   "cell_type": "markdown",
   "id": "28b899ce",
   "metadata": {},
   "source": [
    "### Defining Custom Functions\n",
    "Creating your own functions enhances code reusability and modularity:"
   ]
  },
  {
   "cell_type": "code",
   "execution_count": null,
   "id": "cb83a581",
   "metadata": {},
   "outputs": [],
   "source": [
    "# Basic function example\n",
    "def calculate_profit(buy_price, sell_price, quantity):\n",
    "    return (sell_price - buy_price) * quantity\n",
    "\n",
    "print(calculate_profit(150, 155, 100))  # Output: 500"
   ]
  },
  {
   "cell_type": "code",
   "execution_count": null,
   "id": "11ad0998",
   "metadata": {},
   "outputs": [],
   "source": [
    "# Function with multiple arguments example\n",
    "def place_order(ticker, price, action, quantity):\n",
    "    return f\"Placing {action} order for {quantity} shares of {ticker} at {price}\"\n",
    "\n",
    "print(place_order(\"AAPL\", 150.25, \"buy\", 100))"
   ]
  },
  {
   "cell_type": "markdown",
   "id": "7ad30f00",
   "metadata": {},
   "source": [
    "### Lambda Functions\n",
    "Lambda functions are small anonymous functions defined with the `lambda` keyword:"
   ]
  },
  {
   "cell_type": "code",
   "execution_count": null,
   "id": "218160d3",
   "metadata": {},
   "outputs": [],
   "source": [
    "# Lambda function example\n",
    "calculate_fee = lambda price, quantity: 0.01 * price * quantity\n",
    "print(calculate_fee(150, 100))  # Output: 150.0"
   ]
  },
  {
   "cell_type": "markdown",
   "id": "00ce8aee",
   "metadata": {},
   "source": [
    "## 3. Exploring Classes and Object-Oriented Programming\n",
    "\n",
    "### Defining Classes\n",
    "Classes are blueprints for creating objects that encapsulate data and functionality, which is particularly useful for modeling financial instruments:"
   ]
  },
  {
   "cell_type": "code",
   "execution_count": null,
   "id": "a347804d",
   "metadata": {},
   "outputs": [],
   "source": [
    "# Basic class example\n",
    "class Stock:\n",
    "    def __init__(self, ticker, price):\n",
    "        self.ticker = ticker\n",
    "        self.price = price\n",
    "\n",
    "    def display_info(self):\n",
    "        return f\"Ticker: {self.ticker}, Price: {self.price}\"\n",
    "\n",
    "my_stock = Stock(\"AAPL\", 150.25)\n",
    "print(my_stock.display_info())  # Output: Ticker: AAPL, Price: 150.25"
   ]
  },
  {
   "cell_type": "markdown",
   "id": "5aa37250",
   "metadata": {},
   "source": [
    "### Inheritance\n",
    "Inheritance allows creating a new class that inherits attributes and methods from an existing class, enabling more specific financial modeling:"
   ]
  },
  {
   "cell_type": "code",
   "execution_count": null,
   "id": "8771e4f0",
   "metadata": {},
   "outputs": [],
   "source": [
    "# Inheritance example\n",
    "class Option(Stock):\n",
    "    def __init__(self, ticker, price, strike, expiration):\n",
    "        super().__init__(ticker, price)\n",
    "        self.strike = strike\n",
    "        self.expiration = expiration\n",
    "\n",
    "    def display_option_info(self):\n",
    "        return f\"Ticker: {self.ticker}, Price: {self.price}, Strike: {self.strike}, Expiration: {self.expiration}\"\n",
    "\n",
    "my_option = Option(\"AAPL\", 150.25, 155, \"2023-12-31\")\n",
    "print(my_option.display_option_info())  \n",
    "# Output: Ticker: AAPL, Price: 150.25, Strike: 155, Expiration: 2023-12-31"
   ]
  },
  {
   "cell_type": "markdown",
   "id": "7ea586fc",
   "metadata": {},
   "source": [
    "## 4. Using Loops and Conditionals\n",
    "\n",
    "### For Loops\n",
    "For loops allow iteration over a sequence of items, making it easy to process lists of prices or trade records:"
   ]
  },
  {
   "cell_type": "code",
   "execution_count": null,
   "id": "84a36f1c",
   "metadata": {},
   "outputs": [],
   "source": [
    "# For loop example\n",
    "for price in prices:\n",
    "    print(price)\n",
    "# Output: 150.25 151.00 149.75"
   ]
  },
  {
   "cell_type": "markdown",
   "id": "028d78fa",
   "metadata": {},
   "source": [
    "### While Loops\n",
    "While loops continue executing as long as a condition is true, useful for monitoring market conditions:"
   ]
  },
  {
   "cell_type": "code",
   "execution_count": null,
   "id": "f9951833",
   "metadata": {},
   "outputs": [],
   "source": [
    "# While loop example\n",
    "threshold = 150\n",
    "current_price = 148\n",
    "while current_price < threshold:\n",
    "    print(\"Waiting for price to reach threshold...\")\n",
    "    current_price += 1  # Simulate price change"
   ]
  }
 ],
 "metadata": {},
 "nbformat": 4,
 "nbformat_minor": 5
}
